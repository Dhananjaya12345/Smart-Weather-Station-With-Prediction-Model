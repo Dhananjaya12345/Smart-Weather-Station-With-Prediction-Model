{
 "cells": [
  {
   "cell_type": "code",
   "execution_count": 251,
   "id": "a7b6d64d",
   "metadata": {},
   "outputs": [],
   "source": [
    "import tensorflow  as tf"
   ]
  },
  {
   "cell_type": "code",
   "execution_count": 252,
   "id": "1728d74d",
   "metadata": {},
   "outputs": [],
   "source": [
    "from tensorflow import keras"
   ]
  },
  {
   "cell_type": "code",
   "execution_count": 253,
   "id": "feea39b7",
   "metadata": {},
   "outputs": [],
   "source": [
    "import pandas as pd"
   ]
  },
  {
   "cell_type": "code",
   "execution_count": 254,
   "id": "8262d31f",
   "metadata": {},
   "outputs": [],
   "source": [
    "import numpy as np"
   ]
  },
  {
   "cell_type": "code",
   "execution_count": 255,
   "id": "4a566166",
   "metadata": {},
   "outputs": [],
   "source": [
    "#importating the data set\n",
    "weather_dataset = pd.read_csv('5 day forcast.csv')"
   ]
  },
  {
   "cell_type": "code",
   "execution_count": 256,
   "id": "87110307",
   "metadata": {},
   "outputs": [
    {
     "name": "stdout",
     "output_type": "stream",
     "text": [
      "        Day   Time  entry_id  Temperature  Humidity  UV_level  Rain  \\\n",
      "0       San  60000         1         31.2      87.1        22     1   \n",
      "1       San  60020         2         31.2      87.3        23     1   \n",
      "2       San  60040         3         31.2      87.3        32     1   \n",
      "3       San  60100         4         31.2      87.2       322     1   \n",
      "4       San  60120         5         31.2      87.0        33     1   \n",
      "...     ...    ...       ...          ...       ...       ...   ...   \n",
      "21596  Thur  55820     21597         30.8      86.5         0     0   \n",
      "21597  Thur  55840     21598         30.8      86.5         0     0   \n",
      "21598  Thur  55900     21599         30.8      86.5         0     0   \n",
      "21599  Thur  55920     21600         30.8      86.6         0     0   \n",
      "21600  Thur  55940     21601         30.9      87.0         0     0   \n",
      "\n",
      "       Wind_Speed  \n",
      "0            0.00  \n",
      "1            0.00  \n",
      "2            0.00  \n",
      "3            0.00  \n",
      "4            2.85  \n",
      "...           ...  \n",
      "21596        4.23  \n",
      "21597        5.13  \n",
      "21598        4.43  \n",
      "21599        4.87  \n",
      "21600        3.67  \n",
      "\n",
      "[21601 rows x 8 columns]\n"
     ]
    }
   ],
   "source": [
    "print(weather_dataset)"
   ]
  },
  {
   "cell_type": "code",
   "execution_count": 257,
   "id": "dc39297b",
   "metadata": {},
   "outputs": [],
   "source": [
    "#shuffling the data\n",
    "np.random.shuffle(weather_dataset.values)"
   ]
  },
  {
   "cell_type": "code",
   "execution_count": 258,
   "id": "4d246b02",
   "metadata": {},
   "outputs": [
    {
     "name": "stdout",
     "output_type": "stream",
     "text": [
      "[['San' 60000 1 ... 22 1 0.0]\n",
      " ['San' 60020 2 ... 23 1 0.0]\n",
      " ['San' 60040 3 ... 32 1 0.0]\n",
      " ...\n",
      " ['Thur' 55900 21599 ... 0 0 4.43]\n",
      " ['Thur' 55920 21600 ... 0 0 4.87]\n",
      " ['Thur' 55940 21601 ... 0 0 3.67]]\n"
     ]
    }
   ],
   "source": [
    "print(weather_dataset.values)"
   ]
  },
  {
   "cell_type": "code",
   "execution_count": 259,
   "id": "3028e8d0",
   "metadata": {},
   "outputs": [],
   "source": [
    "#convertion of the date field in to integer format\n",
    "day_dic = {\n",
    "    'San': 1,\n",
    "    'Man': 2,\n",
    "    'Tues': 3,\n",
    "    'Wedn': 4,\n",
    "    'Thur': 5\n",
    "}"
   ]
  },
  {
   "cell_type": "code",
   "execution_count": 260,
   "id": "ec0cbf63",
   "metadata": {},
   "outputs": [
    {
     "name": "stdout",
     "output_type": "stream",
     "text": [
      "{'San': 1, 'Man': 2, 'Tues': 3, 'Wedn': 4, 'Thur': 5}\n"
     ]
    }
   ],
   "source": [
    "print(day_dic)"
   ]
  },
  {
   "cell_type": "code",
   "execution_count": 261,
   "id": "4f1db9dc",
   "metadata": {},
   "outputs": [],
   "source": [
    "weather_dataset['Day'] = weather_dataset.Day.apply(lambda x:day_dic[x])"
   ]
  },
  {
   "cell_type": "code",
   "execution_count": 262,
   "id": "7285b785",
   "metadata": {},
   "outputs": [
    {
     "name": "stdout",
     "output_type": "stream",
     "text": [
      "0        1\n",
      "1        1\n",
      "2        1\n",
      "3        1\n",
      "4        1\n",
      "        ..\n",
      "21596    5\n",
      "21597    5\n",
      "21598    5\n",
      "21599    5\n",
      "21600    5\n",
      "Name: Day, Length: 21601, dtype: int64\n"
     ]
    }
   ],
   "source": [
    "print(weather_dataset['Day'] )"
   ]
  },
  {
   "cell_type": "code",
   "execution_count": 263,
   "id": "25a2b056",
   "metadata": {},
   "outputs": [],
   "source": [
    "# Formulating inputs\n",
    "weather_inputs = np.column_stack((weather_dataset.Day.values,weather_dataset.Time.values,weather_dataset.Temperature.values,weather_dataset.Humidity.values,weather_dataset.UV_level.values))\n"
   ]
  },
  {
   "cell_type": "code",
   "execution_count": 264,
   "id": "f150f33b",
   "metadata": {},
   "outputs": [
    {
     "name": "stdout",
     "output_type": "stream",
     "text": [
      "[[1.000e+00 6.000e+04 3.120e+01 8.710e+01 2.200e+01]\n",
      " [1.000e+00 6.002e+04 3.120e+01 8.730e+01 2.300e+01]\n",
      " [1.000e+00 6.004e+04 3.120e+01 8.730e+01 3.200e+01]\n",
      " ...\n",
      " [5.000e+00 5.590e+04 3.080e+01 8.650e+01 0.000e+00]\n",
      " [5.000e+00 5.592e+04 3.080e+01 8.660e+01 0.000e+00]\n",
      " [5.000e+00 5.594e+04 3.090e+01 8.700e+01 0.000e+00]]\n"
     ]
    }
   ],
   "source": [
    "print(weather_inputs)"
   ]
  },
  {
   "cell_type": "code",
   "execution_count": 265,
   "id": "23915811",
   "metadata": {},
   "outputs": [],
   "source": [
    "#formulating outputs\n",
    "weather_outputs = np.column_stack((weather_dataset.Rain.values,weather_dataset.Wind_Speed.values))\n"
   ]
  },
  {
   "cell_type": "code",
   "execution_count": 266,
   "id": "769367d5",
   "metadata": {},
   "outputs": [
    {
     "name": "stdout",
     "output_type": "stream",
     "text": [
      "[[1.   0.  ]\n",
      " [1.   0.  ]\n",
      " [1.   0.  ]\n",
      " ...\n",
      " [0.   4.43]\n",
      " [0.   4.87]\n",
      " [0.   3.67]]\n"
     ]
    }
   ],
   "source": [
    "print(weather_outputs)"
   ]
  },
  {
   "cell_type": "code",
   "execution_count": 267,
   "id": "13e3e385",
   "metadata": {},
   "outputs": [
    {
     "name": "stdout",
     "output_type": "stream",
     "text": [
      "\n",
      "Building the nurel engine\n"
     ]
    }
   ],
   "source": [
    "print()\n",
    "print('Building the nurel engine')"
   ]
  },
  {
   "cell_type": "code",
   "execution_count": 268,
   "id": "e362f506",
   "metadata": {},
   "outputs": [],
   "source": [
    "#preparing the nureal engine\n",
    "weather_NN = keras.Sequential([\n",
    "    keras.layers.Dense(128, input_shape=(5,), activation='relu'),\n",
    "    keras.layers.Dense(64, activation='relu'),\n",
    "    keras.layers.Dense(32, activation='relu'),\n",
    "    keras.layers.Dense(16, activation='relu'),\n",
    "    keras.layers.Dense(8, activation='relu'),\n",
    "    keras.layers.Dense(4, activation='relu'),\n",
    "    keras.layers.Dense(2, activation='sigmoid')\n",
    "])"
   ]
  },
  {
   "cell_type": "code",
   "execution_count": 269,
   "id": "ce174b70",
   "metadata": {},
   "outputs": [],
   "source": [
    "#compiling the engine\n",
    "weather_NN.compile(optimizer='adam', loss=keras.losses.CategoricalCrossentropy(from_logits=True), metrics=['accuracy'])\n"
   ]
  },
  {
   "cell_type": "code",
   "execution_count": 283,
   "id": "5224da0a",
   "metadata": {},
   "outputs": [
    {
     "name": "stdout",
     "output_type": "stream",
     "text": [
      "Epoch 1/10\n",
      "5401/5401 [==============================] - 31s 6ms/step - loss: 4.4363 - accuracy: 0.8772\n",
      "Epoch 2/10\n",
      "5401/5401 [==============================] - 29s 5ms/step - loss: 4.4695 - accuracy: 0.8772\n",
      "Epoch 3/10\n",
      "5401/5401 [==============================] - 29s 5ms/step - loss: 4.5000 - accuracy: 0.8772\n",
      "Epoch 4/10\n",
      "5401/5401 [==============================] - 36s 7ms/step - loss: 4.5335 - accuracy: 0.8772\n",
      "Epoch 5/10\n",
      "5401/5401 [==============================] - 36s 7ms/step - loss: 4.5732 - accuracy: 0.8772\n",
      "Epoch 6/10\n",
      "5401/5401 [==============================] - 33s 6ms/step - loss: 4.6118 - accuracy: 0.8772\n",
      "Epoch 7/10\n",
      "5401/5401 [==============================] - 40s 7ms/step - loss: 4.6491 - accuracy: 0.8772\n",
      "Epoch 8/10\n",
      "5401/5401 [==============================] - 35s 7ms/step - loss: 4.6927 - accuracy: 0.8772\n",
      "Epoch 9/10\n",
      "5401/5401 [==============================] - 32s 6ms/step - loss: 4.7314 - accuracy: 0.8772\n",
      "Epoch 10/10\n",
      "5401/5401 [==============================] - 32s 6ms/step - loss: 4.7726 - accuracy: 0.8772\n"
     ]
    },
    {
     "data": {
      "text/plain": [
       "<keras.callbacks.History at 0x2ea18ddb490>"
      ]
     },
     "execution_count": 283,
     "metadata": {},
     "output_type": "execute_result"
    }
   ],
   "source": [
    "weather_NN.fit(weather_inputs.astype(np.float32), weather_outputs.astype(np.float32), batch_size=4, epochs=10)\n"
   ]
  },
  {
   "cell_type": "code",
   "execution_count": 282,
   "id": "b918a589",
   "metadata": {},
   "outputs": [
    {
     "name": "stdout",
     "output_type": "stream",
     "text": [
      "1/1 [==============================] - 0s 77ms/step\n",
      "prediction [[1. 1.]]\n"
     ]
    }
   ],
   "source": [
    "print('prediction',weather_NN.predict(np.column_stack((4,220020,30.7,93.7,0))))"
   ]
  },
  {
   "cell_type": "code",
   "execution_count": 276,
   "id": "67cf2f98",
   "metadata": {},
   "outputs": [
    {
     "name": "stdout",
     "output_type": "stream",
     "text": [
      "1/1 [==============================] - 0s 44ms/step\n",
      "Accuracy: 1.0\n"
     ]
    }
   ],
   "source": [
    "import numpy as np\n",
    "\n",
    "# Input data for prediction\n",
    "input_data = np.array([[3, 121200, 30.7, 86.7, 40]], dtype=np.float32)\n",
    "\n",
    "# Get the predicted output\n",
    "prediction = weather_NN.predict(input_data)\n",
    "\n",
    "# Define the actual output value\n",
    "actual_output =  np.array([[1,1]], dtype=np.float32)\n",
    "\n",
    "# Compare the predicted output with the actual output\n",
    "accuracy = np.mean(np.equal(prediction, actual_output))\n",
    "\n",
    "print('Accuracy:', accuracy)\n"
   ]
  },
  {
   "cell_type": "code",
   "execution_count": null,
   "id": "c28ff77c",
   "metadata": {},
   "outputs": [],
   "source": []
  }
 ],
 "metadata": {
  "kernelspec": {
   "display_name": "Python 3 (ipykernel)",
   "language": "python",
   "name": "python3"
  },
  "language_info": {
   "codemirror_mode": {
    "name": "ipython",
    "version": 3
   },
   "file_extension": ".py",
   "mimetype": "text/x-python",
   "name": "python",
   "nbconvert_exporter": "python",
   "pygments_lexer": "ipython3",
   "version": "3.10.9"
  }
 },
 "nbformat": 4,
 "nbformat_minor": 5
}
